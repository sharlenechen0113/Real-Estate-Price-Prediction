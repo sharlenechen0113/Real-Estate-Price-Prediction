{
  "nbformat": 4,
  "nbformat_minor": 0,
  "metadata": {
    "colab": {
      "name": "Mean & SD.ipynb",
      "provenance": [],
      "collapsed_sections": [],
      "include_colab_link": true
    },
    "kernelspec": {
      "name": "python3",
      "display_name": "Python 3"
    },
    "language_info": {
      "name": "python"
    },
    "accelerator": "GPU"
  },
  "cells": [
    {
      "cell_type": "markdown",
      "metadata": {
        "id": "view-in-github",
        "colab_type": "text"
      },
      "source": [
        "<a href=\"https://colab.research.google.com/github/sharlenechen0113/Real-Estate-Price-Prediction/blob/main/Mean%20%26%20SD.ipynb\" target=\"_parent\"><img src=\"https://colab.research.google.com/assets/colab-badge.svg\" alt=\"Open In Colab\"/></a>"
      ]
    },
    {
      "cell_type": "code",
      "metadata": {
        "id": "s8WyP764oIcm"
      },
      "source": [
        "from google.colab import drive\n",
        "drive.mount('/content/drive')"
      ],
      "execution_count": null,
      "outputs": []
    },
    {
      "cell_type": "code",
      "metadata": {
        "id": "eLQUIvtkrJeb"
      },
      "source": [
        "import torch\n",
        "import torch.nn as nn\n",
        "import torch.optim as optim\n",
        "import torch.nn.functional as F\n",
        "import torchvision.datasets as dset\n",
        "import torchvision.transforms as T\n",
        "from torch.utils.data import TensorDataset\n",
        "from torch.utils.data import DataLoader\n",
        "from torch.utils.data import sampler\n",
        "\n",
        "import numpy as np\n",
        "import pandas as pd\n",
        "from PIL import Image\n",
        "from sklearn import preprocessing, metrics, model_selection"
      ],
      "execution_count": null,
      "outputs": []
    },
    {
      "cell_type": "code",
      "metadata": {
        "id": "U6DjvqmH_GLI"
      },
      "source": [
        "USE_GPU = True\n",
        "\n",
        "dtype = torch.float # we will be using float throughout this tutorial\n",
        "\n",
        "if USE_GPU and torch.cuda.is_available():\n",
        "    device = torch.device('cuda')\n",
        "else:\n",
        "    device = torch.device('cpu')\n",
        "\n",
        "# Constant to control how frequently we print train loss\n",
        "print_every = 100\n",
        "\n",
        "print('using device:', device)"
      ],
      "execution_count": null,
      "outputs": []
    },
    {
      "cell_type": "code",
      "metadata": {
        "id": "ccHF8JGeenOE"
      },
      "source": [
        "train_mean = 0.0\n",
        "train_std = 0.0\n",
        "val_mean = 0.0\n",
        "val_std = 0.0"
      ],
      "execution_count": null,
      "outputs": []
    },
    {
      "cell_type": "code",
      "metadata": {
        "id": "f3kD3ZEJhJNh"
      },
      "source": [
        "district_list = ['villages_towns_Sanxia', 'villages_towns_Sanzhi',\n",
        "       'villages_towns_Sanchong', 'villages_towns_Zhonghe',\n",
        "       'villages_towns_Zhongshan', 'villages_towns_Zhongzheng',\n",
        "       'villages_towns_Wugu', 'villages_towns_Xinyi', 'villages_towns_Neihu',\n",
        "       'villages_towns_Bali', 'villages_towns_Beitou',\n",
        "       'villages_towns_Nangang', 'villages_towns_Tucheng',\n",
        "       'villages_towns_Shilin', 'villages_towns_Datong', 'villages_towns_Daan',\n",
        "       'villages_towns_Wenshan', 'villages_towns_Xindian',\n",
        "       'villages_towns_Xinzhuang', 'villages_towns_Songshan',\n",
        "       'villages_towns_Banqiao', 'villages_towns_Linkou',\n",
        "       'villages_towns_Shulin', 'villages_towns_Yonghe',\n",
        "       'villages_towns_Xizhi', 'villages_towns_Taishan',\n",
        "       'villages_towns_Tamsui', 'villages_towns_Shenkeng',\n",
        "       'villages_towns_Ruifang', 'villages_towns_Wanhua',\n",
        "       'villages_towns_Wanli', 'villages_towns_Luzhou',\n",
        "       'villages_towns_Gongliao', 'villages_towns_Jinshan',\n",
        "       'villages_towns_Shuangxi', 'villages_towns_Yingge']\n",
        "building_material = ['building_materials_RC', 'building_materials_RB',\n",
        "       'building_materials_brick', 'building_materials_steel',\n",
        "       'building_materials_SRC', 'building_materials_PRX',\n",
        "       'building_materials_other_material']"
      ],
      "execution_count": null,
      "outputs": []
    },
    {
      "cell_type": "code",
      "metadata": {
        "id": "xtz_4XqiljNn"
      },
      "source": [
        "FILE = '/content/drive/MyDrive/SC201_Final_Project/Data/final_data_taipei.csv'"
      ],
      "execution_count": null,
      "outputs": []
    },
    {
      "cell_type": "code",
      "metadata": {
        "id": "Gx26zfLSm5LM"
      },
      "source": [
        "# standardize data\n",
        "# train_mean = 154170.694\n",
        "# train_std = 79570.40139\n",
        "data = pd.read_csv(FILE)\n",
        "data = data[data.unit_price != 0]\n",
        "data = data[data.unit_price != 2211457]\n",
        "print(data.count())\n",
        "\n",
        "sd = {}\n",
        "mean = {}\n",
        "columns = ['zoning', 'total_floors', 'floors_area', 'unit_price', 'unit_berth_price', 'total_berth_price', 'main_building_area', 'auxiliary_building_area', 'balcony_area', 'building_age']\n",
        "\n",
        "for column in columns:\n",
        "  print(column)\n",
        "  sd_each = data[column].std()\n",
        "  # sd[column] = sd_each\n",
        "\n",
        "  mean_each = data[column].mean()\n",
        "  # mean[column] = mean_each\n",
        "\n",
        "  data[column] = (data[column] - mean_each)/sd_each\n",
        "\n",
        "data.to_csv('/content/drive/MyDrive/SC201_Final_Project/Data/new_data_taipei.csv', encoding=\"utf_8_sig\", index=False)\n",
        "\n"
      ],
      "execution_count": null,
      "outputs": []
    }
  ]
}